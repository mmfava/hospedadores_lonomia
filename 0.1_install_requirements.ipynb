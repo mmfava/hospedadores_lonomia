{
 "cells": [
  {
   "cell_type": "code",
   "execution_count": null,
   "metadata": {
    "vscode": {
     "languageId": "r"
    }
   },
   "outputs": [],
   "source": [
    "# Instalar pacotes do CRAN\n",
    "options(repos = c(CRAN = \"https://cran.r-project.org\"))\n",
    "install.packages(\"units\")\n",
    "install.packages(\"sf\")\n",
    "install.packages(\"rnaturalearth\")\n",
    "install.packages(\"terra\")\n",
    "install.packages(\"CoordinateCleaner\")\n",
    "install.packages(\"maps\") # Mapas\n",
    "install.packages(\"tidyverse\") # Manipulação e visualização de dados\n",
    "install.packages(\"janitor\") # Limpar nomes de colunas da tabela\n",
    "install.packages(\"leaflet\") # Mapas interativos\n",
    "install.packages(\"readxl\") # Ler arquivos Excel\n",
    "install.packages(\"sp\") # Classes e métodos para dados espaciais\n",
    "install.packages(\"cowplot\") # Arranjar gráficos do ggplot2\n",
    "install.packages(\"eks\")\n",
    "#install.packages(\"TNRS\")\n",
    "\n",
    "install.packages(\"gsheet\") \n",
    "install.packages(\"tidyverse\") \n",
    "install.packages(\"janitor\") \n",
    "install.packages(\"kableExtra\") \n",
    "install.packages(\"readxl\")\n",
    "install.packages(\"jsonlite\")\n",
    "install.packages(\"purrr\")\n",
    "install.packages(\"BIEN\")\n",
    "install.packages(\"ridigbio\")\n",
    "install.packages(\"here\")"
   ]
  },
  {
   "cell_type": "code",
   "execution_count": null,
   "metadata": {
    "vscode": {
     "languageId": "r"
    }
   },
   "outputs": [],
   "source": [
    "# Carregar os pacotes\n",
    "library(\"units\")\n",
    "library(\"sf\")\n",
    "library(\"rnaturalearth\")\n",
    "library(\"terra\")\n",
    "library(\"CoordinateCleaner\")\n",
    "library(\"maps\") # Mapas\n",
    "library(\"tidyverse\") # Manipulação e visualização de dados\n",
    "library(\"janitor\") # Limpar nomes de colunas da tabela\n",
    "library(\"leaflet\") # Mapas interativos\n",
    "library(\"readxl\") # Ler arquivos Excel\n",
    "library(\"sp\") # Classes e métodos para dados espaciais\n",
    "library(\"cowplot\") # Arranjar gráficos do ggplot2\n",
    "library(\"eks\")\n",
    "\n",
    "library(\"gsheet\") \n",
    "library(\"tidyverse\") \n",
    "library(\"janitor\") \n",
    "library(\"kableExtra\") \n",
    "library(\"readxl\")\n",
    "library(\"jsonlite\")\n",
    "library(\"BIEN\")\n",
    "library(\"purrr\")\n",
    "library(\"BIEN\")\n",
    "library(\"ridigbio\")\n",
    "library(\"here\")"
   ]
  },
  {
   "cell_type": "code",
   "execution_count": null,
   "metadata": {
    "vscode": {
     "languageId": "r"
    }
   },
   "outputs": [],
   "source": [
    "s = sessionInfo()"
   ]
  },
  {
   "cell_type": "code",
   "execution_count": null,
   "metadata": {
    "vscode": {
     "languageId": "r"
    }
   },
   "outputs": [],
   "source": [
    "s"
   ]
  }
 ],
 "metadata": {
  "kernelspec": {
   "display_name": "R",
   "language": "R",
   "name": "ir"
  },
  "language_info": {
   "codemirror_mode": "r",
   "file_extension": ".r",
   "mimetype": "text/x-r-source",
   "name": "R",
   "pygments_lexer": "r",
   "version": "4.3.2"
  }
 },
 "nbformat": 4,
 "nbformat_minor": 2
}
