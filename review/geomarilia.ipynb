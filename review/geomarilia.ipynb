{
  "nbformat": 4,
  "nbformat_minor": 0,
  "metadata": {
    "colab": {
      "name": "geomarilia.ipynb",
      "provenance": []
    },
    "kernelspec": {
      "name": "python3",
      "display_name": "Python 3"
    },
    "language_info": {
      "name": "python"
    }
  },
  "cells": [
    {
      "cell_type": "code",
      "execution_count": 19,
      "metadata": {
        "id": "zmsaHeJpZhjV"
      },
      "outputs": [],
      "source": [
        "#importing the modules\n",
        "import pandas as pd\n",
        "import numpy as np\n",
        "import geopandas as gpd\n",
        "from shapely import ops\n",
        "from shapely.geometry import Point, LineString, Polygon"
      ]
    },
    {
      "cell_type": "code",
      "source": [
        "#importing the data\n",
        "data = pd.read_csv('/content/drive/MyDrive/occ.csv',\n",
        "            delimiter = ';')\n",
        "\n",
        "#filtering for sp and removing weird column\n",
        "data = data[data['Taxon_type'] == 'sp']\n",
        "data.drop('Unnamed: 0', axis = 1,inplace = True)"
      ],
      "metadata": {
        "id": "GwoEUtNnaS7B"
      },
      "execution_count": 10,
      "outputs": []
    },
    {
      "cell_type": "code",
      "source": [
        "#transforming the points in coordinates\n",
        "gdf = gpd.GeoDataFrame(data, geometry=gpd.points_from_xy(data.Longitude, data.Latitude))"
      ],
      "metadata": {
        "id": "iDxk2mPAa1fF"
      },
      "execution_count": 20,
      "outputs": []
    },
    {
      "cell_type": "code",
      "source": [
        "#latin america polygon\n",
        "world_gdf = gpd.read_file(\n",
        "    gpd.datasets.get_path('naturalearth_lowres')\n",
        ")\n",
        "\n",
        "latam_continents = ['South America', 'Central America',\n",
        "                    'Caribbean']\n",
        "\n",
        "sudamerica_gdf = world_gdf[world_gdf.continent == 'South America']"
      ],
      "metadata": {
        "id": "AQIc5ksqdUrC"
      },
      "execution_count": 58,
      "outputs": []
    },
    {
      "cell_type": "code",
      "source": [
        "#merging all the polygons\n",
        "sudamerica_polygon = ops.unary_union(sudamerica_gdf.geometry)"
      ],
      "metadata": {
        "id": "BWP4H0DOh_GM"
      },
      "execution_count": 84,
      "outputs": []
    },
    {
      "cell_type": "code",
      "source": [
        "len(gdf.geometry)"
      ],
      "metadata": {
        "colab": {
          "base_uri": "https://localhost:8080/"
        },
        "id": "25D0ov3qnwo-",
        "outputId": "beaa9fd0-22e1-4797-a09e-320c85400884"
      },
      "execution_count": 89,
      "outputs": [
        {
          "output_type": "execute_result",
          "data": {
            "text/plain": [
              "135671"
            ]
          },
          "metadata": {},
          "execution_count": 89
        }
      ]
    },
    {
      "cell_type": "code",
      "source": [
        "#testing for an example point\n",
        "range(0,len(gdf.geometry))\n"
      ],
      "metadata": {
        "colab": {
          "base_uri": "https://localhost:8080/"
        },
        "id": "1Rtm54bSiWNH",
        "outputId": "1ed5f59a-8a47-4158-e28f-fb5d844f1568"
      },
      "execution_count": 93,
      "outputs": [
        {
          "output_type": "execute_result",
          "data": {
            "text/plain": [
              "range(0, 135671)"
            ]
          },
          "metadata": {},
          "execution_count": 93
        }
      ]
    },
    {
      "cell_type": "code",
      "source": [
        "contained_sudamerica = [sudamerica_polygon.contains(gdf.geometry[i]) for i in range(0,len(gdf.geometry))]"
      ],
      "metadata": {
        "id": "v1YfGmeReaFa"
      },
      "execution_count": 95,
      "outputs": []
    },
    {
      "cell_type": "code",
      "source": [
        "gdf['contained_sudamerica'] = contained_sudamerica"
      ],
      "metadata": {
        "id": "G2wZNZrnowsQ"
      },
      "execution_count": 98,
      "outputs": []
    },
    {
      "cell_type": "code",
      "source": [
        "outside_sudamerica = gdf[gdf['contained_sudamerica'] == False]\n",
        "inside_sudamerica = gdf[gdf['contained_sudamerica'] == True]"
      ],
      "metadata": {
        "id": "bbrnzKigo7af"
      },
      "execution_count": 138,
      "outputs": []
    },
    {
      "cell_type": "code",
      "source": [
        "#now i will invert the outside_sudamerica points and try to recover a few\n",
        "outside_sudamerica.drop('geometry',axis = 1,inplace = True )\n"
      ],
      "metadata": {
        "id": "M0zT39rEpcJ0"
      },
      "execution_count": null,
      "outputs": []
    },
    {
      "cell_type": "code",
      "source": [
        "outside_sudamerica['longitude'] = outside_sudamerica['Latitude']\n",
        "outside_sudamerica['latitude'] = outside_sudamerica['Longitude']\n",
        "outside_sudamerica.drop(['Latitude','Longitude'], axis=1, inplace = True)"
      ],
      "metadata": {
        "id": "-1BD0vZLp-yr"
      },
      "execution_count": null,
      "outputs": []
    },
    {
      "cell_type": "code",
      "source": [
        "#new coordinates\n",
        "out_s_new_coords = gpd.GeoDataFrame(outside_sudamerica, geometry=gpd.points_from_xy(outside_sudamerica.longitude, outside_sudamerica.latitude))"
      ],
      "metadata": {
        "id": "i1zOu1lMqcdc"
      },
      "execution_count": 112,
      "outputs": []
    },
    {
      "cell_type": "code",
      "source": [
        "out_s_new_coords.index = range(0,88124)"
      ],
      "metadata": {
        "id": "E_-WWyWnsxvG"
      },
      "execution_count": 123,
      "outputs": []
    },
    {
      "cell_type": "code",
      "source": [
        "#checking if new points are inside \n",
        "rechecking_cont_sud = [sudamerica_polygon.contains(out_s_new_coords.geometry[i]) for i in range(0,len(out_s_new_coords.geometry))]"
      ],
      "metadata": {
        "id": "opi9k_2ArCXJ"
      },
      "execution_count": 124,
      "outputs": []
    },
    {
      "cell_type": "code",
      "source": [
        "out_s_new_coords['repescagem'] = rechecking_cont_sud"
      ],
      "metadata": {
        "id": "PT83RbK7tSYG"
      },
      "execution_count": 125,
      "outputs": []
    },
    {
      "cell_type": "code",
      "source": [
        "final_repescagem = out_s_new_coords[out_s_new_coords['repescagem'] == True]\n",
        "\n",
        "#70469 of the 88 thousand were in south america"
      ],
      "metadata": {
        "id": "4YXbT_MCtXwQ"
      },
      "execution_count": 136,
      "outputs": []
    },
    {
      "cell_type": "code",
      "source": [
        "#preparing the two dataset to be merged together: the first one is the one which originally had\n",
        "#all the points already in there\n",
        "inside_sudamerica.drop(['geometry','contained_sudamerica'],axis = 1, inplace = True)\n",
        "#the second one is the one which when inverted, the points showed up in south america\n",
        "final_repescagem['Latitude'] = final_repescagem['latitude']\n",
        "final_repescagem['Longitude'] = final_repescagem['longitude']\n",
        "\n",
        "final_repescagem.drop(['repescagem','contained_sudamerica', 'latitude', 'longitude', 'geometry'],axis = 1, inplace = True)\n"
      ],
      "metadata": {
        "colab": {
          "base_uri": "https://localhost:8080/"
        },
        "id": "Nwdh09qBt9SN",
        "outputId": "55923fc0-4491-49f6-d1dc-57f3fb8dc1f9"
      },
      "execution_count": 139,
      "outputs": [
        {
          "output_type": "stream",
          "name": "stderr",
          "text": [
            "/usr/local/lib/python3.7/dist-packages/pandas/core/frame.py:4913: SettingWithCopyWarning: \n",
            "A value is trying to be set on a copy of a slice from a DataFrame\n",
            "\n",
            "See the caveats in the documentation: https://pandas.pydata.org/pandas-docs/stable/user_guide/indexing.html#returning-a-view-versus-a-copy\n",
            "  errors=errors,\n",
            "/usr/local/lib/python3.7/dist-packages/geopandas/geodataframe.py:1351: SettingWithCopyWarning: \n",
            "A value is trying to be set on a copy of a slice from a DataFrame.\n",
            "Try using .loc[row_indexer,col_indexer] = value instead\n",
            "\n",
            "See the caveats in the documentation: https://pandas.pydata.org/pandas-docs/stable/user_guide/indexing.html#returning-a-view-versus-a-copy\n",
            "  super().__setitem__(key, value)\n",
            "/usr/local/lib/python3.7/dist-packages/pandas/core/frame.py:4913: SettingWithCopyWarning: \n",
            "A value is trying to be set on a copy of a slice from a DataFrame\n",
            "\n",
            "See the caveats in the documentation: https://pandas.pydata.org/pandas-docs/stable/user_guide/indexing.html#returning-a-view-versus-a-copy\n",
            "  errors=errors,\n"
          ]
        }
      ]
    },
    {
      "cell_type": "code",
      "source": [
        "data_corrected_final = inside_sudamerica.append(final_repescagem)"
      ],
      "metadata": {
        "id": "ZcY0c14atjgK"
      },
      "execution_count": 141,
      "outputs": []
    },
    {
      "cell_type": "code",
      "source": [
        "data_corrected_final.to_csv(\"/content/drive/MyDrive/data_corrected.csv\")"
      ],
      "metadata": {
        "id": "oVCjyH0Vvvr1"
      },
      "execution_count": 142,
      "outputs": []
    }
  ]
}